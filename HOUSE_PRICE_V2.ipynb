{
 "cells": [
  {
   "cell_type": "markdown",
   "metadata": {},
   "source": [
    "# House Price - Kaggle competition"
   ]
  },
  {
   "cell_type": "code",
   "execution_count": 1,
   "metadata": {
    "collapsed": true
   },
   "outputs": [],
   "source": [
    "import pandas as pd\n",
    "import numpy as np\n",
    "from scipy import stats\n",
    "from sklearn.model_selection import train_test_split"
   ]
  },
  {
   "cell_type": "code",
   "execution_count": 2,
   "metadata": {
    "collapsed": true
   },
   "outputs": [],
   "source": [
    "# importing data\n",
    "train_data = pd.read_csv('./train.csv')\n",
    "upload_data = pd.read_csv('./test.csv')"
   ]
  },
  {
   "cell_type": "markdown",
   "metadata": {},
   "source": [
    "## 1 - Missing data imputation"
   ]
  },
  {
   "cell_type": "markdown",
   "metadata": {},
   "source": [
    "### 1.1 - Variables with missing"
   ]
  },
  {
   "cell_type": "code",
   "execution_count": 35,
   "metadata": {
    "collapsed": false
   },
   "outputs": [
    {
     "data": {
      "text/plain": [
       "LotFrontage     0.177397\n",
       "Alley           0.937671\n",
       "MasVnrType      0.005479\n",
       "MasVnrArea      0.005479\n",
       "BsmtQual        0.025342\n",
       "BsmtCond        0.025342\n",
       "BsmtExposure    0.026027\n",
       "BsmtFinType1    0.025342\n",
       "BsmtFinType2    0.026027\n",
       "Electrical      0.000685\n",
       "FireplaceQu     0.472603\n",
       "GarageType      0.055479\n",
       "GarageYrBlt     0.055479\n",
       "GarageFinish    0.055479\n",
       "GarageQual      0.055479\n",
       "GarageCond      0.055479\n",
       "PoolQC          0.995205\n",
       "Fence           0.807534\n",
       "MiscFeature     0.963014\n",
       "dtype: float64"
      ]
     },
     "execution_count": 35,
     "metadata": {},
     "output_type": "execute_result"
    }
   ],
   "source": [
    "# percentage of missing in variables\n",
    "missing_var = train_data.isnull().sum()/train_data.shape[0]\n",
    "missing_var = missing_var[missing_var > 0]\n",
    "missing_var"
   ]
  },
  {
   "cell_type": "markdown",
   "metadata": {},
   "source": [
    "### 1.2 - Missing variable's description"
   ]
  },
  {
   "cell_type": "markdown",
   "metadata": {},
   "source": [
    "    LotFrontage     0.177397\n",
    "Linear feet of street connected to property  \n",
    "For not corner houses, could be 1/4 of the total area  \n",
    "For corner houses, could be 1/2 of the total area  \n",
    "\n",
    "    Alley           0.937671\n",
    "    Alley: Type of alley access to property\n",
    "\n",
    "           Grvl\tGravel\n",
    "           Pave\tPaved\n",
    "           NA \tNo alley access\n",
    "Probably ok having missing here\n",
    "\n",
    "    MasVnrType      0.005479\n",
    "    MasVnrArea      0.005479\n",
    "\"Masonry veneer walls consist of a single non-structural external layer of masonry work, typically brick, backed by an air space.\"  \n",
    "Could have missing\n",
    "    \n",
    "    BsmtQual        0.025342\n",
    "    BsmtCond        0.025342\n",
    "Could have missing  \n",
    "\n",
    "    BsmtExposure    0.026027\n",
    "    BsmtFinType1    0.025342\n",
    "    BsmtFinType2    0.026027\n",
    "    Electrical      0.000685\n",
    "    FireplaceQu     0.472603\n",
    "    GarageType      0.055479\n",
    "    GarageYrBlt     0.055479\n",
    "    GarageFinish    0.055479\n",
    "    GarageQual      0.055479\n",
    "    GarageCond      0.055479\n",
    "    PoolQC          0.995205\n",
    "    Fence           0.807534\n",
    "    MiscFeature     0.963014"
   ]
  },
  {
   "cell_type": "code",
   "execution_count": null,
   "metadata": {
    "collapsed": true
   },
   "outputs": [],
   "source": []
  },
  {
   "cell_type": "code",
   "execution_count": null,
   "metadata": {
    "collapsed": true
   },
   "outputs": [],
   "source": []
  }
 ],
 "metadata": {
  "kernelspec": {
   "display_name": "Python 3",
   "language": "python",
   "name": "python3"
  },
  "language_info": {
   "codemirror_mode": {
    "name": "ipython",
    "version": 3
   },
   "file_extension": ".py",
   "mimetype": "text/x-python",
   "name": "python",
   "nbconvert_exporter": "python",
   "pygments_lexer": "ipython3",
   "version": "3.5.0"
  }
 },
 "nbformat": 4,
 "nbformat_minor": 2
}
